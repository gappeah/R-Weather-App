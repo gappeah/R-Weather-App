{
  "nbformat": 4,
  "nbformat_minor": 0,
  "metadata": {
    "colab": {
      "provenance": []
    },
    "kernelspec": {
      "name": "ir",
      "display_name": "R"
    },
    "language_info": {
      "name": "R"
    }
  },
  "cells": [
    {
      "cell_type": "code",
      "execution_count": null,
      "metadata": {
        "colab": {
          "base_uri": "https://localhost:8080/"
        },
        "id": "cgHGOTT1JCPi",
        "outputId": "ca3f3fed-e7e2-4fab-cf12-24da6051fd88"
      },
      "outputs": [
        {
          "output_type": "stream",
          "name": "stdout",
          "text": [
            "Please enter the current temperature (in Celsius): 40\n",
            "Please enter the current wind speed (in km/h): 35\n",
            "Is it currently raining? (yes/no): no\n",
            "[1] \"It's really hot! Try to stay indoors and stay hydrated.\"\n"
          ]
        }
      ],
      "source": [
        "# Ask the user to enter the current temperature, wind speed, and rain status\n",
        "temperature_input <- readline(prompt = \"Please enter the current temperature (in Celsius): \")\n",
        "temperature <- as.numeric(temperature_input)\n",
        "\n",
        "wind_speed_input <- readline(prompt = \"Please enter the current wind speed (in km/h): \")\n",
        "wind_speed <- as.numeric(wind_speed_input)\n",
        "\n",
        "rain_input <- readline(prompt = \"Is it currently raining? (yes/no): \")\n",
        "\n",
        "# Provide activity suggestions based on temperature, wind speed, and rain status\n",
        "if (temperature > 30) {\n",
        "  print(\"It's really hot! Try to stay indoors and stay hydrated.\")\n",
        "} else if (temperature > 20) {\n",
        "  if (wind_speed < 20 && rain_input == \"no\") {\n",
        "    print(\"It's a nice day for a walk or a picnic.\")\n",
        "  } else {\n",
        "    print(\"It's a bit windy or rainy. Consider a light jacket or staying indoors.\")\n",
        "  }\n",
        "} else if (temperature > 10) {\n",
        "  if (wind_speed < 30 && rain_input == \"no\") {\n",
        "    print(\"It's a bit chilly. Consider wearing a jacket if you are going out.\")\n",
        "  } else {\n",
        "    print(\"It's chilly and windy or rainy. Consider a warmer jacket,or go fly a kite, or staying indoors.\")\n",
        "  }\n",
        "} else if (temperature > 0) {\n",
        "  if (wind_speed < 40 && rain_input == \"no\") {\n",
        "    print(\"It's cold! Keep warm and consider indoor activities.\")\n",
        "  } else {\n",
        "    print(\"It's cold and windy or rainy. Bundle up if you go outside!\")\n",
        "  }\n",
        "} else {\n",
        "  print(\"It's freezing! Best to stay indoors and keep warm.\")\n",
        "}"
      ]
    }
  ]
}