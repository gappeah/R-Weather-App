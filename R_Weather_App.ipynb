{
  "nbformat": 4,
  "nbformat_minor": 0,
  "metadata": {
    "colab": {
      "provenance": []
    },
    "kernelspec": {
      "name": "ir",
      "display_name": "R"
    },
    "language_info": {
      "name": "R"
    }
  },
  "cells": [
    {
      "cell_type": "code",
      "execution_count": 2,
      "metadata": {
        "colab": {
          "base_uri": "https://localhost:8080/"
        },
        "id": "cgHGOTT1JCPi",
        "outputId": "16c6450a-a7fd-497c-f558-2e6cac52271b"
      },
      "outputs": [
        {
          "output_type": "stream",
          "name": "stdout",
          "text": [
            "[1] \"Welcome to the Weather App\"\n",
            "Please enter the current temperature (in Celsius): 16\n",
            "Please enter the current wind speed (in km/h): 9\n",
            "Is it currently raining? (yes/no): no\n",
            "Is it cloudy? (yes/no): no\n",
            "What time of day is it? (morning/afternoon/evening/night): afternoon\n",
            "[1] \"Chilly weather, consider wearing a jacket if you're going out.\"\n"
          ]
        }
      ],
      "source": [
        "# Ask the user for more weather conditions\n",
        "print(\"Welcome to the Weather App\")\n",
        "temperature_input <- readline(prompt = \"Please enter the current temperature (in Celsius): \")\n",
        "temperature <- as.numeric(temperature_input)\n",
        "\n",
        "wind_speed_input <- readline(prompt = \"Please enter the current wind speed (in km/h): \")\n",
        "wind_speed <- as.numeric(wind_speed_input)\n",
        "\n",
        "rain_input <- readline(prompt = \"Is it currently raining? (yes/no): \")\n",
        "\n",
        "cloudy_input <- readline(prompt = \"Is it cloudy? (yes/no): \")\n",
        "\n",
        "time_of_day_input <- readline(prompt = \"What time of day is it? (morning/afternoon/evening/night): \")\n",
        "\n",
        "# Provide activity suggestions based on temperature, wind speed, rain status, cloudiness, and time of day\n",
        "if (temperature > 30) {\n",
        "  if (time_of_day_input == \"afternoon\") {\n",
        "    print(\"It's really hot in the afternoon! Try to stay indoors, hydrate, or go swimming.\")\n",
        "  } else {\n",
        "    print(\"It's hot! Avoid strenuous activities outside, stay hydrated.\")\n",
        "  }\n",
        "} else if (temperature > 20) {\n",
        "  if (wind_speed < 20 && rain_input == \"no\" && cloudy_input == \"no\") {\n",
        "    print(\"It's a beautiful day for outdoor activities like hiking or a picnic.\")\n",
        "  } else if (wind_speed >= 20) {\n",
        "    print(\"It's a bit windy. Maybe flying a kite is a good idea!\")\n",
        "  } else if (rain_input == \"yes\") {\n",
        "    print(\"It's raining, grab an umbrella if you're going out.\")\n",
        "  }\n",
        "} else if (temperature > 10) {\n",
        "  if (rain_input == \"no\" && wind_speed < 30) {\n",
        "    if (time_of_day_input == \"morning\") {\n",
        "      print(\"It's a bit chilly, but a nice morning for a jog or walk with a jacket.\")\n",
        "    } else {\n",
        "      print(\"Chilly weather, consider wearing a jacket if you're going out.\")\n",
        "    }\n",
        "  } else {\n",
        "    print(\"Chilly and rainy or windy. Maybe stay indoors, read a book, or watch a movie.\")\n",
        "  }\n",
        "} else if (temperature > 0) {\n",
        "  if (rain_input == \"no\" && wind_speed < 40) {\n",
        "    print(\"It's cold! Bundle up and stay warm if you're going outside.\")\n",
        "  } else {\n",
        "    print(\"Cold, windy, or rainy. It's best to enjoy some indoor activities.\")\n",
        "  }\n",
        "} else {\n",
        "  print(\"It's freezing! Stay indoors and keep warm, maybe enjoy some hot chocolate.\")\n",
        "}\n"
      ]
    },
    {
      "cell_type": "code",
      "source": [
        "# Add some sample data for activities\n",
        "df <- data.frame(\n",
        "  Temperature = c(35, 25, 15, 5, -5),\n",
        "  Wind_Speed = c(15, 25, 35, 45, 55),\n",
        "  Rain = c(\"no\", \"no\", \"yes\", \"yes\", \"no\"),\n",
        "  Cloudy = c(\"no\", \"yes\", \"no\", \"yes\", \"no\"),\n",
        "  Time_of_Day = c(\"afternoon\", \"morning\", \"evening\", \"night\", \"afternoon\"),\n",
        "  Activity = c(\"Stay indoors and hydrate\",\n",
        "               \"Nice day for a hike or picnic\",\n",
        "               \"Chilly and windy, consider indoor activities\",\n",
        "               \"Cold and windy, bundle up if outside\",\n",
        "               \"Freezing! Stay warm indoors\")\n",
        ")\n",
        "print(df)"
      ],
      "metadata": {
        "colab": {
          "base_uri": "https://localhost:8080/"
        },
        "id": "H2CahCqaQxlf",
        "outputId": "cbeb9908-e21b-4494-b591-5425fad0bb97"
      },
      "execution_count": 3,
      "outputs": [
        {
          "output_type": "stream",
          "name": "stdout",
          "text": [
            "  Temperature Wind_Speed Rain Cloudy Time_of_Day\n",
            "1          35         15   no     no   afternoon\n",
            "2          25         25   no    yes     morning\n",
            "3          15         35  yes     no     evening\n",
            "4           5         45  yes    yes       night\n",
            "5          -5         55   no     no   afternoon\n",
            "                                      Activity\n",
            "1                     Stay indoors and hydrate\n",
            "2                Nice day for a hike or picnic\n",
            "3 Chilly and windy, consider indoor activities\n",
            "4         Cold and windy, bundle up if outside\n",
            "5                  Freezing! Stay warm indoors\n"
          ]
        }
      ]
    }
  ]
}